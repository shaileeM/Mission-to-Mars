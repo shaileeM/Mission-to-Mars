{
 "cells": [
  {
   "cell_type": "code",
   "execution_count": 1,
   "id": "301415f1",
   "metadata": {},
   "outputs": [],
   "source": [
    "# Import Splinter and BeautifulSoup\n",
    "from splinter import Browser\n",
    "from bs4 import BeautifulSoup as soup\n",
    "from webdriver_manager.chrome import ChromeDriverManager\n",
    "import pandas as pd"
   ]
  },
  {
   "cell_type": "code",
   "execution_count": 2,
   "id": "7a2a53cc",
   "metadata": {},
   "outputs": [],
   "source": [
    "executable_path = {'executable_path':'C:\\\\Users\\shail\\.wdm\\drivers\\chromedriver\\win32\\91.0.4472.101\\chromedriver.exe'}\n",
    "#executable_path = {'executable_path': ChromeDriverManager().install()}\n",
    "#browser = Browser('chrome', **executable_path, headless=False)\n",
    "browser = Browser('chrome',**executable_path,headless=False)"
   ]
  },
  {
   "cell_type": "code",
   "execution_count": null,
   "id": "73ad5d49",
   "metadata": {},
   "outputs": [],
   "source": [
    "# Visit the mars nasa news site\n",
    "url = 'https://redplanetscience.com'\n",
    "browser.visit(url)\n",
    "# Optional delay for loading the page\n",
    "browser.is_element_present_by_css('div.list_text', wait_time=1)"
   ]
  },
  {
   "cell_type": "code",
   "execution_count": null,
   "id": "cf368024",
   "metadata": {},
   "outputs": [],
   "source": [
    "#setup the html parser\n",
    "html = browser.html\n",
    "news_soup = soup(html, 'html.parser')\n",
    "slide_elem = news_soup.select_one('div.list_text')  #means class=\"list_text\""
   ]
  },
  {
   "cell_type": "code",
   "execution_count": null,
   "id": "1d415634",
   "metadata": {},
   "outputs": [],
   "source": [
    "print(slide_elem)"
   ]
  },
  {
   "cell_type": "code",
   "execution_count": null,
   "id": "9e65fbd5",
   "metadata": {},
   "outputs": [],
   "source": [
    "slide_elem.find('div',class_=\"content_title\").get_text()"
   ]
  },
  {
   "cell_type": "code",
   "execution_count": null,
   "id": "b976e717",
   "metadata": {},
   "outputs": [],
   "source": [
    "slide_elem.find('div', class_='article_teaser_body').get_text()"
   ]
  },
  {
   "cell_type": "markdown",
   "id": "72eafc12",
   "metadata": {},
   "source": [
    "### Featured Images from https://spaceimages-mars.com/"
   ]
  },
  {
   "cell_type": "code",
   "execution_count": null,
   "id": "5fda2779",
   "metadata": {},
   "outputs": [],
   "source": [
    "# Visit URL\n",
    "url = 'https://spaceimages-mars.com'\n",
    "browser.visit(url)"
   ]
  },
  {
   "cell_type": "code",
   "execution_count": null,
   "id": "8ae4b962",
   "metadata": {},
   "outputs": [],
   "source": [
    "# Find and click the full image button\n",
    "full_image_elem = browser.find_by_tag('button')[1]\n",
    "full_image_elem.click()\n",
    "\n",
    "#full_image_elem=browser.find_by_tag('btn btn-outline-light')\n",
    "print(full_image_elem)"
   ]
  },
  {
   "cell_type": "code",
   "execution_count": null,
   "id": "d89d8bd9",
   "metadata": {},
   "outputs": [],
   "source": [
    "browser.quit"
   ]
  },
  {
   "cell_type": "code",
   "execution_count": null,
   "id": "e25546eb",
   "metadata": {},
   "outputs": [],
   "source": [
    "# Parse the resulting html with soup\n",
    "html = browser.html\n",
    "img_soup = soup(html, 'html.parser')\n",
    "print(img_soup)"
   ]
  },
  {
   "cell_type": "code",
   "execution_count": null,
   "id": "fa644fdc",
   "metadata": {},
   "outputs": [],
   "source": [
    "# Find the relative image url\n",
    "img_url_rel = img_soup.find('img', class_='fancybox-image').get('src')\n",
    "img_url_rel"
   ]
  },
  {
   "cell_type": "code",
   "execution_count": null,
   "id": "ce29b816",
   "metadata": {},
   "outputs": [],
   "source": [
    "# Use the base URL to create an absolute URL\n",
    "img_url = f'https://spaceimages-mars.com/{img_url_rel}'\n",
    "img_url"
   ]
  },
  {
   "cell_type": "markdown",
   "id": "f6fc1ca6",
   "metadata": {},
   "source": [
    "#Get the facts table from https://galaxyfacts-mars.com/"
   ]
  },
  {
   "cell_type": "code",
   "execution_count": null,
   "id": "aa0b6312",
   "metadata": {},
   "outputs": [],
   "source": [
    "df = pd.read_html('https://galaxyfacts-mars.com/')[0]\n",
    "df.columns=['description', 'Mars', 'Earth']\n",
    "df.set_index('description', inplace=True)\n",
    "df\n"
   ]
  },
  {
   "cell_type": "code",
   "execution_count": null,
   "id": "14c96194",
   "metadata": {},
   "outputs": [],
   "source": [
    "#Putting back df into html\n",
    "df.to_html()"
   ]
  },
  {
   "cell_type": "markdown",
   "id": "2c6551ee",
   "metadata": {},
   "source": [
    "# D1: Scrape High-Resolution Mars’ Hemisphere Images and Titles\n",
    "Hemispheres \n"
   ]
  },
  {
   "cell_type": "code",
   "execution_count": 3,
   "id": "a2569176",
   "metadata": {},
   "outputs": [],
   "source": [
    "# 1. Use browser to visit the URL \n",
    "url = 'https://astrogeology.usgs.gov/search/results?q=hemisphere+enhanced&k1=target&v1=Mars/'\n",
    "browser.visit(url)\n",
    "\n",
    "html = browser.html\n",
    "hemis_soup = soup(html, 'html.parser')"
   ]
  },
  {
   "cell_type": "code",
   "execution_count": 11,
   "id": "e6b9e9b0",
   "metadata": {
    "scrolled": true
   },
   "outputs": [
    {
     "name": "stdout",
     "output_type": "stream",
     "text": [
      "https://astropedia.astrogeology.usgs.gov/download/Mars/Viking/cerberus_enhanced.tif/full.jpg\n",
      "https://astropedia.astrogeology.usgs.gov/download/Mars/Viking/schiaparelli_enhanced.tif/full.jpg\n",
      "https://astropedia.astrogeology.usgs.gov/download/Mars/Viking/syrtis_major_enhanced.tif/full.jpg\n",
      "https://astropedia.astrogeology.usgs.gov/download/Mars/Viking/valles_marineris_enhanced.tif/full.jpg\n"
     ]
    }
   ],
   "source": [
    "# 2. Create a list to hold the images and titles.\n",
    "hemisphere_image_urls = []\n",
    "\n",
    "# 3. Write code to retrieve the image urls and titles for each hemisphere.\n",
    "#div class item , div class description , a href\n",
    "\n",
    "result=hemis_soup.find_all(\"div\", class_=\"item\")\n",
    "#print(result)\n",
    "\n",
    "# result_dict={}\n",
    "#d['mynewkey'] = 'mynewvalue'\n",
    "\n",
    "for r in result:\n",
    "    find_div=r.find(\"div\",class_=\"description\")\n",
    "    #print(find_div)\n",
    "    find_button=r.find('a',href=True)\n",
    "    #print(find_button)\n",
    "    link=find_button['href']\n",
    "#     link=link.rstrip(\".html\")\n",
    "    #print(link)\n",
    "    static_link=\"https://astrogeology.usgs.gov/\"\n",
    "    final_link=static_link+link\n",
    "    #print(final_link)\n",
    "    browser.visit(final_link)\n",
    "    #Now in new page\n",
    "    html=browser.html\n",
    "    new_soup=soup(html,'html.parser')\n",
    "    \n",
    "    result_downloads=new_soup.find(\"div\",class_=\"downloads\")\n",
    "    #print(result)\n",
    "    #url= result.find('a')['href'].text\n",
    "    sample_image=result_downloads.find('a')\n",
    "    final_url=sample_image['href']\n",
    "    #find_button.click()\n",
    "    print(final_url)\n",
    "   \n",
    "                           \n",
    "#hemisphere_image_urls.append(result_dict)"
   ]
  },
  {
   "cell_type": "code",
   "execution_count": 7,
   "id": "7c15a044",
   "metadata": {},
   "outputs": [
    {
     "data": {
      "text/plain": [
       "[]"
      ]
     },
     "execution_count": 7,
     "metadata": {},
     "output_type": "execute_result"
    }
   ],
   "source": [
    "# 4. Print the list that holds the dictionary of each image url and title.\n",
    "hemisphere_image_urls"
   ]
  },
  {
   "cell_type": "code",
   "execution_count": null,
   "id": "8e04f504",
   "metadata": {},
   "outputs": [],
   "source": [
    "browser.quit()"
   ]
  },
  {
   "cell_type": "code",
   "execution_count": null,
   "id": "b5ab6c0c",
   "metadata": {},
   "outputs": [],
   "source": []
  }
 ],
 "metadata": {
  "kernelspec": {
   "display_name": "PythonData",
   "language": "python",
   "name": "pythondata"
  },
  "language_info": {
   "codemirror_mode": {
    "name": "ipython",
    "version": 3
   },
   "file_extension": ".py",
   "mimetype": "text/x-python",
   "name": "python",
   "nbconvert_exporter": "python",
   "pygments_lexer": "ipython3",
   "version": "3.7.10"
  }
 },
 "nbformat": 4,
 "nbformat_minor": 5
}
